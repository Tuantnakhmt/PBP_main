{
 "cells": [
  {
   "cell_type": "code",
   "execution_count": 1,
   "metadata": {
    "executionInfo": {
     "elapsed": 13991,
     "status": "ok",
     "timestamp": 1731380588210,
     "user": {
      "displayName": "Tuấn Trần",
      "userId": "12903239917764979460"
     },
     "user_tz": -420
    },
    "id": "h_-OD6TUzNYD"
   },
   "outputs": [],
   "source": [
    "import pandas as pd\n",
    "df= pd.read_csv(\"cdp_label_500K.csv\")\n",
    "unactivate_df=df[(df['TRANG_THAI']==\"Chuakichhoat\")]"
   ]
  },
  {
   "cell_type": "code",
   "execution_count": 2,
   "metadata": {
    "executionInfo": {
     "elapsed": 352,
     "status": "ok",
     "timestamp": 1731380588556,
     "user": {
      "displayName": "Tuấn Trần",
      "userId": "12903239917764979460"
     },
     "user_tz": -420
    },
    "id": "fwseLynb0aIl"
   },
   "outputs": [],
   "source": [
    "df=df[~df['TRANG_THAI'].isin(unactivate_df['TRANG_THAI'])]"
   ]
  },
  {
   "cell_type": "code",
   "execution_count": 3,
   "metadata": {
    "executionInfo": {
     "elapsed": 365,
     "status": "ok",
     "timestamp": 1731380588919,
     "user": {
      "displayName": "Tuấn Trần",
      "userId": "12903239917764979460"
     },
     "user_tz": -420
    },
    "id": "lx7UGolR0svO"
   },
   "outputs": [],
   "source": [
    "df=df.drop(columns=['min_tuoi','idnumber','co_goi','khong_tuong_tac','accalo','is_onsong','BTS_NAME'])"
   ]
  },
  {
   "cell_type": "code",
   "execution_count": 4,
   "metadata": {
    "colab": {
     "base_uri": "https://localhost:8080/"
    },
    "executionInfo": {
     "elapsed": 489,
     "status": "ok",
     "timestamp": 1731380589407,
     "user": {
      "displayName": "Tuấn Trần",
      "userId": "12903239917764979460"
     },
     "user_tz": -420
    },
    "id": "8e6XXS6I0UUr",
    "outputId": "f4a2a35b-68f5-4ea0-8699-00993e7cacfc"
   },
   "outputs": [
    {
     "name": "stdout",
     "output_type": "stream",
     "text": [
      "<class 'pandas.core.frame.DataFrame'>\n",
      "Index: 497282 entries, 0 to 499999\n",
      "Data columns (total 140 columns):\n",
      " #    Column                      Non-Null Count   Dtype  \n",
      "---   ------                      --------------   -----  \n",
      " 0    ACCS_MTHD_KEY               497282 non-null  object \n",
      " 1    ACTVTN_DT                   497282 non-null  float64\n",
      " 2    ACC                         492793 non-null  float64\n",
      " 3    SIM_TYPE                    497282 non-null  object \n",
      " 4    TRANG_THAI                  497282 non-null  object \n",
      " 5    PROVINCE_CODE               480240 non-null  object \n",
      " 6    PBH                         480240 non-null  object \n",
      " 7    GEO_CITY_NAME               489771 non-null  object \n",
      " 8    GEO_CNTY_NAME               454721 non-null  object \n",
      " 9    PTC                         497282 non-null  int64  \n",
      " 10   CD_2G                       497282 non-null  int64  \n",
      " 11   HVC_T                       497282 non-null  int64  \n",
      " 12   HVC_T_1                     497282 non-null  int64  \n",
      " 13   HVC_T_2                     497282 non-null  int64  \n",
      " 14   SERVICE_CODE                47974 non-null   object \n",
      " 15   P1_SONGAY                   47974 non-null   float64\n",
      " 16   NAP_THE_T                   497282 non-null  int64  \n",
      " 17   TKC_T                       497282 non-null  float64\n",
      " 18   TKKM_T                      497282 non-null  float64\n",
      " 19   TKC_THOAI_T                 497282 non-null  float64\n",
      " 20   TKKM_THOAI_T                497282 non-null  float64\n",
      " 21   TKC_THOAI_ONNET_T           497282 non-null  float64\n",
      " 22   TKC_THOAI_OFFNET_T          497282 non-null  float64\n",
      " 23   TKC_SMS_T                   497282 non-null  float64\n",
      " 24   TKKM_SMS_T                  497282 non-null  float64\n",
      " 25   TKC_SMS_ONNET_T             497282 non-null  float64\n",
      " 26   TKC_SMS_OFFNET_T            497282 non-null  float64\n",
      " 27   TKC_DATA_T                  497282 non-null  float64\n",
      " 28   TKKM_DATA_T                 497282 non-null  float64\n",
      " 29   TKC_KHAC_T                  497282 non-null  float64\n",
      " 30   TKC_VAS_T                   497282 non-null  float64\n",
      " 31   LL_THOAI_T                  497282 non-null  int64  \n",
      " 32   LL_ONNET_IC_T               497282 non-null  int64  \n",
      " 33   LL_ONNET_OG_T               497282 non-null  int64  \n",
      " 34   LL_OFFNET_IC_T              497282 non-null  int64  \n",
      " 35   LL_OFFNET_OG_T              497282 non-null  int64  \n",
      " 36   LL_SMS_T                    497282 non-null  int64  \n",
      " 37   LL_SMS_ONNET_T              497282 non-null  int64  \n",
      " 38   LL_SMS_OFFNET_T             497282 non-null  int64  \n",
      " 39   LL_DATA_T                   497282 non-null  float64\n",
      " 40   TKC_MYTV_T                  497282 non-null  float64\n",
      " 41   NAP_THE_T_1                 497282 non-null  int64  \n",
      " 42   TKC_T_1                     497282 non-null  float64\n",
      " 43   TKKM_T_1                    497282 non-null  float64\n",
      " 44   TKC_THOAI_T_1               497282 non-null  float64\n",
      " 45   TKKM_THOAI_T_1              497282 non-null  float64\n",
      " 46   TKC_THOAI_ONNET_T_1         497282 non-null  float64\n",
      " 47   TKC_THOAI_OFFNET_T_1        497282 non-null  float64\n",
      " 48   TKC_SMS_T_1                 497282 non-null  float64\n",
      " 49   TKKM_SMS_T_1                497282 non-null  float64\n",
      " 50   TKC_SMS_ONNET_T_1           497282 non-null  float64\n",
      " 51   TKC_SMS_OFFNET_T_1          497282 non-null  float64\n",
      " 52   TKC_DATA_T_1                497282 non-null  float64\n",
      " 53   TKKM_DATA_T_1               497282 non-null  float64\n",
      " 54   TKC_KHAC_T_1                497282 non-null  float64\n",
      " 55   TKC_VAS_T_1                 497282 non-null  float64\n",
      " 56   LL_THOAI_T_1                497282 non-null  int64  \n",
      " 57   LL_ONNET_IC_T_1             497282 non-null  int64  \n",
      " 58   LL_ONNET_OG_T_1             497282 non-null  int64  \n",
      " 59   LL_OFFNET_IC_T_1            497282 non-null  int64  \n",
      " 60   LL_OFFNET_OG_T_1            497282 non-null  int64  \n",
      " 61   LL_SMS_T_1                  497282 non-null  int64  \n",
      " 62   LL_SMS_ONNET_T_1            497282 non-null  int64  \n",
      " 63   LL_SMS_OFFNET_T_1           497282 non-null  int64  \n",
      " 64   LL_DATA_T_1                 497282 non-null  float64\n",
      " 65   TKC_MYTV_T_1                497282 non-null  float64\n",
      " 66   NAP_THE_T_2                 497282 non-null  int64  \n",
      " 67   TKC_T_2                     497282 non-null  float64\n",
      " 68   TKKM_T_2                    497282 non-null  float64\n",
      " 69   TKC_THOAI_T_2               497282 non-null  float64\n",
      " 70   TKKM_THOAI_T_2              497282 non-null  float64\n",
      " 71   TKC_THOAI_ONNET_T_2         497282 non-null  float64\n",
      " 72   TKC_THOAI_OFFNET_T_2        497282 non-null  float64\n",
      " 73   TKC_SMS_T_2                 497282 non-null  float64\n",
      " 74   TKKM_SMS_T_2                497282 non-null  float64\n",
      " 75   TKC_SMS_ONNET_T_2           497282 non-null  float64\n",
      " 76   TKC_SMS_OFFNET_T_2          497282 non-null  float64\n",
      " 77   TKC_DATA_T_2                497282 non-null  float64\n",
      " 78   TKKM_DATA_T_2               497282 non-null  float64\n",
      " 79   TKC_KHAC_T_2                497282 non-null  float64\n",
      " 80   TKC_VAS_T_2                 497282 non-null  float64\n",
      " 81   LL_THOAI_T_2                497282 non-null  int64  \n",
      " 82   LL_ONNET_IC_T_2             497282 non-null  int64  \n",
      " 83   LL_ONNET_OG_T_2             497282 non-null  int64  \n",
      " 84   LL_OFFNET_IC_T_2            497282 non-null  int64  \n",
      " 85   LL_OFFNET_OG_T_2            497282 non-null  int64  \n",
      " 86   LL_SMS_T_2                  497282 non-null  int64  \n",
      " 87   LL_SMS_ONNET_T_2            497282 non-null  int64  \n",
      " 88   LL_SMS_OFFNET_T_2           497282 non-null  int64  \n",
      " 89   LL_DATA_T_2                 497282 non-null  float64\n",
      " 90   TKC_MYTV_T_2                497282 non-null  float64\n",
      " 91   is_fiber                    38480 non-null   float64\n",
      " 92   device_type                 481593 non-null  object \n",
      " 93   device_spam                 481593 non-null  float64\n",
      " 94   simslot                     471178 non-null  object \n",
      " 95   num_of_id                   483572 non-null  float64\n",
      " 96   id_home                     10532 non-null   float64\n",
      " 97   role_home                   10532 non-null   float64\n",
      " 98   package_homecombo           10532 non-null   object \n",
      " 99   is_tieudung_km              82439 non-null   float64\n",
      " 100  is_sim_bundle               52991 non-null   float64\n",
      " 101  package_km                  4778 non-null    float64\n",
      " 102  package_km_t_1              6146 non-null    float64\n",
      " 103  tapuutien                   497282 non-null  int64  \n",
      " 104  uutientap4                  13663 non-null   object \n",
      " 105  TOT_RVN_PACKAGE             78793 non-null   float64\n",
      " 106  SERVICE_CODE_MUAGOI         78793 non-null   object \n",
      " 107  APP_NAME                    78793 non-null   object \n",
      " 108  P2_CHUKY                    9336 non-null    float64\n",
      " 109  sum_voice_t8                497282 non-null  int64  \n",
      " 110  voice_den_nm_t8             497282 non-null  int64  \n",
      " 111  voice_di_nm_t8              497282 non-null  int64  \n",
      " 112  voice_den_ngoaimang_t8      497282 non-null  int64  \n",
      " 113  voice_di_ngoaimang_t8       497282 non-null  int64  \n",
      " 114  voice_nm_t8                 497282 non-null  int64  \n",
      " 115  voice_ngoai_mang_t8         497282 non-null  int64  \n",
      " 116  amount_nap_the_t8           497282 non-null  int64  \n",
      " 117  sum_voice_t7                483711 non-null  float64\n",
      " 118  voice_den_nm_t7             483711 non-null  float64\n",
      " 119  voice_di_nm_t7              483711 non-null  float64\n",
      " 120  voice_den_ngoaimang_t7      483711 non-null  float64\n",
      " 121  voice_di_ngoaimang_t7       483711 non-null  float64\n",
      " 122  voice_nm_t7                 483711 non-null  float64\n",
      " 123  voice_ngoai_mang_t7         483711 non-null  float64\n",
      " 124  amount_nap_the_t7           483711 non-null  float64\n",
      " 125  sum_voice_t6                476351 non-null  float64\n",
      " 126  voice_den_nm_t6             476351 non-null  float64\n",
      " 127  voice_di_nm_t6              476351 non-null  float64\n",
      " 128  voice_den_ngoaimang_t6      476351 non-null  float64\n",
      " 129  voice_di_ngoaimang_t6       476351 non-null  float64\n",
      " 130  voice_nm_t6                 476351 non-null  float64\n",
      " 131  voice_ngoai_mang_t6         476351 non-null  float64\n",
      " 132  amount_nap_the_t6           476351 non-null  float64\n",
      " 133  ngay_sinh                   496893 non-null  object \n",
      " 134  tuoi                        496967 non-null  float64\n",
      " 135  gender                      496541 non-null  object \n",
      " 136  service_fee_expiry_date     497282 non-null  object \n",
      " 137  super_period_expiry_date    497282 non-null  object \n",
      " 138  account_disconnection_date  497282 non-null  object \n",
      " 139  label                       497282 non-null  int64  \n",
      "dtypes: float64(79), int64(42), object(19)\n",
      "memory usage: 534.9+ MB\n"
     ]
    }
   ],
   "source": [
    "df.info(verbose=True, show_counts=True)"
   ]
  },
  {
   "cell_type": "code",
   "execution_count": 5,
   "metadata": {
    "colab": {
     "base_uri": "https://localhost:8080/"
    },
    "executionInfo": {
     "elapsed": 7,
     "status": "ok",
     "timestamp": 1731380589407,
     "user": {
      "displayName": "Tuấn Trần",
      "userId": "12903239917764979460"
     },
     "user_tz": -420
    },
    "id": "Yx4VMYBe2Y3m",
    "outputId": "c895d815-9af8-4c1e-85fe-340454674005"
   },
   "outputs": [
    {
     "name": "stderr",
     "output_type": "stream",
     "text": [
      "<ipython-input-5-1172210a9b58>:7: FutureWarning: A value is trying to be set on a copy of a DataFrame or Series through chained assignment using an inplace method.\n",
      "The behavior will change in pandas 3.0. This inplace method will never work because the intermediate object on which we are setting values always behaves as a copy.\n",
      "\n",
      "For example, when doing 'df[col].method(value, inplace=True)', try using 'df.method({col: value}, inplace=True)' or df[col] = df[col].method(value) instead, to perform the operation inplace on the original object.\n",
      "\n",
      "\n",
      "  df[col].fillna(0, inplace=True)\n"
     ]
    }
   ],
   "source": [
    "columns_to_fill_zero = [ 'amount_nap_the_t6','voice_ngoai_mang_t6','voice_nm_t6','voice_di_ngoaimang_t6','voice_den_ngoaimang_t6','voice_di_nm_t6','voice_den_nm_t6','sum_voice_t6',\n",
    "                        'amount_nap_the_t7','voice_ngoai_mang_t7','voice_nm_t7','voice_di_ngoaimang_t7','voice_den_ngoaimang_t7','voice_di_nm_t7','voice_den_nm_t7','sum_voice_t7',\n",
    "                         'is_fiber','is_tieudung_km','package_km','package_km_t_1',\n",
    "  ]\n",
    "\n",
    "for col in columns_to_fill_zero:\n",
    "    df[col].fillna(0, inplace=True)"
   ]
  },
  {
   "cell_type": "code",
   "execution_count": 6,
   "metadata": {
    "executionInfo": {
     "elapsed": 519,
     "status": "ok",
     "timestamp": 1731380589923,
     "user": {
      "displayName": "Tuấn Trần",
      "userId": "12903239917764979460"
     },
     "user_tz": -420
    },
    "id": "cvMYb79a4NQ_"
   },
   "outputs": [],
   "source": [
    "# columns_to_div_currency = ['NAP_THE_T','TKC_T','TKKM_T', 'TKC_THOAI_T', 'TKKM_THOAI_T','TKC_THOAI_ONNET_T','TKC_THOAI_OFFNET_T','TKC_SMS_T', 'TKKM_SMS_T','TKC_SMS_ONNET_T','TKC_SMS_OFFNET_T','TKC_DATA_T','TKKM_DATA_T','TKC_KHAC_T','TKC_VAS_T',\n",
    "#                   'NAP_THE_T_1','TKC_T_1','TKKM_T_1', 'TKC_THOAI_T_1', 'TKKM_THOAI_T_1','TKC_THOAI_ONNET_T_1','TKC_THOAI_OFFNET_T_1','TKC_SMS_T_1', 'TKKM_SMS_T_1','TKC_SMS_ONNET_T_1','TKC_SMS_OFFNET_T_1','TKC_DATA_T_1','TKKM_DATA_T_1','TKC_KHAC_T_1','TKC_VAS_T_1',\n",
    "#                   'NAP_THE_T_2','TKC_T_2','TKKM_T_2', 'TKC_THOAI_T_2', 'TKKM_THOAI_T_2','TKC_THOAI_ONNET_T_2','TKC_THOAI_OFFNET_T_2','TKC_SMS_T_2', 'TKKM_SMS_T_2','TKC_SMS_ONNET_T_2','TKC_SMS_OFFNET_T_2','TKC_DATA_T_2','TKKM_DATA_T_2','TKC_KHAC_T_2','TKC_VAS_T_2',\n",
    "# ]\n",
    "\n",
    "# df[columns_to_div_currency]=df[columns_to_div_currency].div(1000)\n",
    "columns_to_div_currency = ['NAP_THE_T','TKC_T', 'TKC_THOAI_T', 'TKC_THOAI_ONNET_T','TKC_THOAI_OFFNET_T','TKC_SMS_T', 'TKC_SMS_ONNET_T','TKC_SMS_OFFNET_T','TKC_DATA_T','TKC_KHAC_T','TKC_VAS_T',\n",
    "                  'NAP_THE_T_1','TKC_T_1', 'TKC_THOAI_T_1','TKC_THOAI_ONNET_T_1','TKC_THOAI_OFFNET_T_1','TKC_SMS_T_1', 'TKC_SMS_ONNET_T_1','TKC_SMS_OFFNET_T_1','TKC_DATA_T_1','TKC_KHAC_T_1','TKC_VAS_T_1',\n",
    "                  'NAP_THE_T_2','TKC_T_2', 'TKC_THOAI_T_2','TKC_THOAI_ONNET_T_2','TKC_THOAI_OFFNET_T_2','TKC_SMS_T_2', 'TKC_SMS_ONNET_T_2','TKC_SMS_OFFNET_T_2','TKC_DATA_T_2','TKC_KHAC_T_2','TKC_VAS_T_2',\n",
    "]\n",
    "\n",
    "df[columns_to_div_currency]=df[columns_to_div_currency].div(1000)"
   ]
  },
  {
   "cell_type": "code",
   "execution_count": 7,
   "metadata": {
    "executionInfo": {
     "elapsed": 5,
     "status": "ok",
     "timestamp": 1731380589923,
     "user": {
      "displayName": "Tuấn Trần",
      "userId": "12903239917764979460"
     },
     "user_tz": -420
    },
    "id": "iAjdJh036HGT"
   },
   "outputs": [],
   "source": [
    "columns_to_div_currency = ['TKC_MYTV_T','TKC_MYTV_T_1','TKC_MYTV_T_2']\n",
    "\n",
    "df[columns_to_div_currency]=df[columns_to_div_currency].div(1000)"
   ]
  },
  {
   "cell_type": "code",
   "execution_count": 8,
   "metadata": {
    "executionInfo": {
     "elapsed": 5,
     "status": "ok",
     "timestamp": 1731380589923,
     "user": {
      "displayName": "Tuấn Trần",
      "userId": "12903239917764979460"
     },
     "user_tz": -420
    },
    "id": "9_9cqL8I55gm"
   },
   "outputs": [],
   "source": [
    "columns_to_div_data = ['LL_DATA_T','LL_DATA_T_1','LL_DATA_T_2']\n",
    "\n",
    "df[columns_to_div_data]=df[columns_to_div_data].div(1024*1024*1024)"
   ]
  },
  {
   "cell_type": "code",
   "execution_count": 9,
   "metadata": {
    "executionInfo": {
     "elapsed": 5,
     "status": "ok",
     "timestamp": 1731380589924,
     "user": {
      "displayName": "Tuấn Trần",
      "userId": "12903239917764979460"
     },
     "user_tz": -420
    },
    "id": "s-dFSDmb6dYm"
   },
   "outputs": [],
   "source": [
    "df_test=df[df['tuoi'].isnull()]"
   ]
  },
  {
   "cell_type": "code",
   "execution_count": 10,
   "metadata": {
    "colab": {
     "base_uri": "https://localhost:8080/"
    },
    "executionInfo": {
     "elapsed": 5,
     "status": "ok",
     "timestamp": 1731380589924,
     "user": {
      "displayName": "Tuấn Trần",
      "userId": "12903239917764979460"
     },
     "user_tz": -420
    },
    "id": "Yi5B7sNd7wr2",
    "outputId": "4190ee3b-250e-4186-f861-846c1a3b3eee"
   },
   "outputs": [
    {
     "name": "stdout",
     "output_type": "stream",
     "text": [
      "<class 'pandas.core.frame.DataFrame'>\n",
      "Index: 315 entries, 429 to 499218\n",
      "Data columns (total 140 columns):\n",
      " #    Column                      Non-Null Count  Dtype  \n",
      "---   ------                      --------------  -----  \n",
      " 0    ACCS_MTHD_KEY               315 non-null    object \n",
      " 1    ACTVTN_DT                   315 non-null    float64\n",
      " 2    ACC                         307 non-null    float64\n",
      " 3    SIM_TYPE                    315 non-null    object \n",
      " 4    TRANG_THAI                  315 non-null    object \n",
      " 5    PROVINCE_CODE               240 non-null    object \n",
      " 6    PBH                         240 non-null    object \n",
      " 7    GEO_CITY_NAME               239 non-null    object \n",
      " 8    GEO_CNTY_NAME               221 non-null    object \n",
      " 9    PTC                         315 non-null    int64  \n",
      " 10   CD_2G                       315 non-null    int64  \n",
      " 11   HVC_T                       315 non-null    int64  \n",
      " 12   HVC_T_1                     315 non-null    int64  \n",
      " 13   HVC_T_2                     315 non-null    int64  \n",
      " 14   SERVICE_CODE                5 non-null      object \n",
      " 15   P1_SONGAY                   5 non-null      float64\n",
      " 16   NAP_THE_T                   315 non-null    float64\n",
      " 17   TKC_T                       315 non-null    float64\n",
      " 18   TKKM_T                      315 non-null    float64\n",
      " 19   TKC_THOAI_T                 315 non-null    float64\n",
      " 20   TKKM_THOAI_T                315 non-null    float64\n",
      " 21   TKC_THOAI_ONNET_T           315 non-null    float64\n",
      " 22   TKC_THOAI_OFFNET_T          315 non-null    float64\n",
      " 23   TKC_SMS_T                   315 non-null    float64\n",
      " 24   TKKM_SMS_T                  315 non-null    float64\n",
      " 25   TKC_SMS_ONNET_T             315 non-null    float64\n",
      " 26   TKC_SMS_OFFNET_T            315 non-null    float64\n",
      " 27   TKC_DATA_T                  315 non-null    float64\n",
      " 28   TKKM_DATA_T                 315 non-null    float64\n",
      " 29   TKC_KHAC_T                  315 non-null    float64\n",
      " 30   TKC_VAS_T                   315 non-null    float64\n",
      " 31   LL_THOAI_T                  315 non-null    int64  \n",
      " 32   LL_ONNET_IC_T               315 non-null    int64  \n",
      " 33   LL_ONNET_OG_T               315 non-null    int64  \n",
      " 34   LL_OFFNET_IC_T              315 non-null    int64  \n",
      " 35   LL_OFFNET_OG_T              315 non-null    int64  \n",
      " 36   LL_SMS_T                    315 non-null    int64  \n",
      " 37   LL_SMS_ONNET_T              315 non-null    int64  \n",
      " 38   LL_SMS_OFFNET_T             315 non-null    int64  \n",
      " 39   LL_DATA_T                   315 non-null    float64\n",
      " 40   TKC_MYTV_T                  315 non-null    float64\n",
      " 41   NAP_THE_T_1                 315 non-null    float64\n",
      " 42   TKC_T_1                     315 non-null    float64\n",
      " 43   TKKM_T_1                    315 non-null    float64\n",
      " 44   TKC_THOAI_T_1               315 non-null    float64\n",
      " 45   TKKM_THOAI_T_1              315 non-null    float64\n",
      " 46   TKC_THOAI_ONNET_T_1         315 non-null    float64\n",
      " 47   TKC_THOAI_OFFNET_T_1        315 non-null    float64\n",
      " 48   TKC_SMS_T_1                 315 non-null    float64\n",
      " 49   TKKM_SMS_T_1                315 non-null    float64\n",
      " 50   TKC_SMS_ONNET_T_1           315 non-null    float64\n",
      " 51   TKC_SMS_OFFNET_T_1          315 non-null    float64\n",
      " 52   TKC_DATA_T_1                315 non-null    float64\n",
      " 53   TKKM_DATA_T_1               315 non-null    float64\n",
      " 54   TKC_KHAC_T_1                315 non-null    float64\n",
      " 55   TKC_VAS_T_1                 315 non-null    float64\n",
      " 56   LL_THOAI_T_1                315 non-null    int64  \n",
      " 57   LL_ONNET_IC_T_1             315 non-null    int64  \n",
      " 58   LL_ONNET_OG_T_1             315 non-null    int64  \n",
      " 59   LL_OFFNET_IC_T_1            315 non-null    int64  \n",
      " 60   LL_OFFNET_OG_T_1            315 non-null    int64  \n",
      " 61   LL_SMS_T_1                  315 non-null    int64  \n",
      " 62   LL_SMS_ONNET_T_1            315 non-null    int64  \n",
      " 63   LL_SMS_OFFNET_T_1           315 non-null    int64  \n",
      " 64   LL_DATA_T_1                 315 non-null    float64\n",
      " 65   TKC_MYTV_T_1                315 non-null    float64\n",
      " 66   NAP_THE_T_2                 315 non-null    float64\n",
      " 67   TKC_T_2                     315 non-null    float64\n",
      " 68   TKKM_T_2                    315 non-null    float64\n",
      " 69   TKC_THOAI_T_2               315 non-null    float64\n",
      " 70   TKKM_THOAI_T_2              315 non-null    float64\n",
      " 71   TKC_THOAI_ONNET_T_2         315 non-null    float64\n",
      " 72   TKC_THOAI_OFFNET_T_2        315 non-null    float64\n",
      " 73   TKC_SMS_T_2                 315 non-null    float64\n",
      " 74   TKKM_SMS_T_2                315 non-null    float64\n",
      " 75   TKC_SMS_ONNET_T_2           315 non-null    float64\n",
      " 76   TKC_SMS_OFFNET_T_2          315 non-null    float64\n",
      " 77   TKC_DATA_T_2                315 non-null    float64\n",
      " 78   TKKM_DATA_T_2               315 non-null    float64\n",
      " 79   TKC_KHAC_T_2                315 non-null    float64\n",
      " 80   TKC_VAS_T_2                 315 non-null    float64\n",
      " 81   LL_THOAI_T_2                315 non-null    int64  \n",
      " 82   LL_ONNET_IC_T_2             315 non-null    int64  \n",
      " 83   LL_ONNET_OG_T_2             315 non-null    int64  \n",
      " 84   LL_OFFNET_IC_T_2            315 non-null    int64  \n",
      " 85   LL_OFFNET_OG_T_2            315 non-null    int64  \n",
      " 86   LL_SMS_T_2                  315 non-null    int64  \n",
      " 87   LL_SMS_ONNET_T_2            315 non-null    int64  \n",
      " 88   LL_SMS_OFFNET_T_2           315 non-null    int64  \n",
      " 89   LL_DATA_T_2                 315 non-null    float64\n",
      " 90   TKC_MYTV_T_2                315 non-null    float64\n",
      " 91   is_fiber                    315 non-null    float64\n",
      " 92   device_type                 88 non-null     object \n",
      " 93   device_spam                 88 non-null     float64\n",
      " 94   simslot                     84 non-null     object \n",
      " 95   num_of_id                   1 non-null      float64\n",
      " 96   id_home                     2 non-null      float64\n",
      " 97   role_home                   2 non-null      float64\n",
      " 98   package_homecombo           2 non-null      object \n",
      " 99   is_tieudung_km              315 non-null    float64\n",
      " 100  is_sim_bundle               28 non-null     float64\n",
      " 101  package_km                  315 non-null    float64\n",
      " 102  package_km_t_1              315 non-null    float64\n",
      " 103  tapuutien                   315 non-null    int64  \n",
      " 104  uutientap4                  11 non-null     object \n",
      " 105  TOT_RVN_PACKAGE             12 non-null     float64\n",
      " 106  SERVICE_CODE_MUAGOI         12 non-null     object \n",
      " 107  APP_NAME                    12 non-null     object \n",
      " 108  P2_CHUKY                    1 non-null      float64\n",
      " 109  sum_voice_t8                315 non-null    int64  \n",
      " 110  voice_den_nm_t8             315 non-null    int64  \n",
      " 111  voice_di_nm_t8              315 non-null    int64  \n",
      " 112  voice_den_ngoaimang_t8      315 non-null    int64  \n",
      " 113  voice_di_ngoaimang_t8       315 non-null    int64  \n",
      " 114  voice_nm_t8                 315 non-null    int64  \n",
      " 115  voice_ngoai_mang_t8         315 non-null    int64  \n",
      " 116  amount_nap_the_t8           315 non-null    int64  \n",
      " 117  sum_voice_t7                315 non-null    float64\n",
      " 118  voice_den_nm_t7             315 non-null    float64\n",
      " 119  voice_di_nm_t7              315 non-null    float64\n",
      " 120  voice_den_ngoaimang_t7      315 non-null    float64\n",
      " 121  voice_di_ngoaimang_t7       315 non-null    float64\n",
      " 122  voice_nm_t7                 315 non-null    float64\n",
      " 123  voice_ngoai_mang_t7         315 non-null    float64\n",
      " 124  amount_nap_the_t7           315 non-null    float64\n",
      " 125  sum_voice_t6                315 non-null    float64\n",
      " 126  voice_den_nm_t6             315 non-null    float64\n",
      " 127  voice_di_nm_t6              315 non-null    float64\n",
      " 128  voice_den_ngoaimang_t6      315 non-null    float64\n",
      " 129  voice_di_ngoaimang_t6       315 non-null    float64\n",
      " 130  voice_nm_t6                 315 non-null    float64\n",
      " 131  voice_ngoai_mang_t6         315 non-null    float64\n",
      " 132  amount_nap_the_t6           315 non-null    float64\n",
      " 133  ngay_sinh                   1 non-null      object \n",
      " 134  tuoi                        0 non-null      float64\n",
      " 135  gender                      1 non-null      object \n",
      " 136  service_fee_expiry_date     315 non-null    object \n",
      " 137  super_period_expiry_date    315 non-null    object \n",
      " 138  account_disconnection_date  315 non-null    object \n",
      " 139  label                       315 non-null    int64  \n",
      "dtypes: float64(82), int64(39), object(19)\n",
      "memory usage: 347.0+ KB\n"
     ]
    }
   ],
   "source": [
    "df_test.info(verbose=True, show_counts=True)"
   ]
  },
  {
   "cell_type": "code",
   "execution_count": null,
   "metadata": {
    "executionInfo": {
     "elapsed": 328,
     "status": "ok",
     "timestamp": 1731380590248,
     "user": {
      "displayName": "Tuấn Trần",
      "userId": "12903239917764979460"
     },
     "user_tz": -420
    },
    "id": "4fHzrJIW-mO9"
   },
   "outputs": [],
   "source": [
    "gender_mapping = {\n",
    "    'male': 'male',\n",
    "    'Male': 'male',\n",
    "    'nam': 'male',\n",
    "    'Nam': 'male',\n",
    "    'NAM / M': 'male',\n",
    "\n",
    "    'female': 'female',\n",
    "    'Female': 'female',\n",
    "    'Nữ': 'female',\n",
    "    'nữ': 'female',\n",
    "    'nu': 'female',\n",
    "    'NỮ / F': 'female',\n",
    "    'Nu': 'female',\n",
    "\n",
    "    '-': 'notKnown',\n",
    "}\n",
    "\n",
    "df['gender'] = df['gender'].replace(gender_mapping)\n"
   ]
  },
  {
   "cell_type": "code",
   "execution_count": 11,
   "metadata": {
    "executionInfo": {
     "elapsed": 3,
     "status": "ok",
     "timestamp": 1731380590248,
     "user": {
      "displayName": "Tuấn Trần",
      "userId": "12903239917764979460"
     },
     "user_tz": -420
    },
    "id": "2MMN-ZLtV4a8"
   },
   "outputs": [],
   "source": []
  },
  {
   "cell_type": "code",
   "execution_count": 12,
   "metadata": {
    "executionInfo": {
     "elapsed": 2,
     "status": "ok",
     "timestamp": 1731380590248,
     "user": {
      "displayName": "Tuấn Trần",
      "userId": "12903239917764979460"
     },
     "user_tz": -420
    },
    "id": "Dy1yXZRM7iTW"
   },
   "outputs": [],
   "source": [
    "df[['tuoi', 'gender']] = df[['tuoi', 'gender']].fillna(\"notKnown\")"
   ]
  },
  {
   "cell_type": "code",
   "execution_count": 13,
   "metadata": {
    "executionInfo": {
     "elapsed": 2,
     "status": "ok",
     "timestamp": 1731380590248,
     "user": {
      "displayName": "Tuấn Trần",
      "userId": "12903239917764979460"
     },
     "user_tz": -420
    },
    "id": "EpYWbw4X-HUO"
   },
   "outputs": [],
   "source": [
    "df=df.drop(columns=['ngay_sinh','uutientap4','PTC'])"
   ]
  },
  {
   "cell_type": "code",
   "execution_count": 14,
   "metadata": {
    "executionInfo": {
     "elapsed": 331,
     "status": "ok",
     "timestamp": 1731380590577,
     "user": {
      "displayName": "Tuấn Trần",
      "userId": "12903239917764979460"
     },
     "user_tz": -420
    },
    "id": "HGkOUhDPAb8m"
   },
   "outputs": [],
   "source": [
    "df=df.drop(columns=['num_of_id'])"
   ]
  },
  {
   "cell_type": "code",
   "execution_count": 15,
   "metadata": {
    "colab": {
     "base_uri": "https://localhost:8080/"
    },
    "executionInfo": {
     "elapsed": 1046,
     "status": "ok",
     "timestamp": 1731380591622,
     "user": {
      "displayName": "Tuấn Trần",
      "userId": "12903239917764979460"
     },
     "user_tz": -420
    },
    "id": "wOqwf6pV-6ZP",
    "outputId": "a5535859-0c42-4800-8956-0ad9aaceeb80"
   },
   "outputs": [
    {
     "name": "stdout",
     "output_type": "stream",
     "text": [
      "<class 'pandas.core.frame.DataFrame'>\n",
      "Index: 497282 entries, 0 to 499999\n",
      "Data columns (total 136 columns):\n",
      " #    Column                      Non-Null Count   Dtype  \n",
      "---   ------                      --------------   -----  \n",
      " 0    ACCS_MTHD_KEY               497282 non-null  object \n",
      " 1    ACTVTN_DT                   497282 non-null  float64\n",
      " 2    ACC                         492793 non-null  float64\n",
      " 3    SIM_TYPE                    497282 non-null  object \n",
      " 4    TRANG_THAI                  497282 non-null  object \n",
      " 5    PROVINCE_CODE               480240 non-null  object \n",
      " 6    PBH                         480240 non-null  object \n",
      " 7    GEO_CITY_NAME               489771 non-null  object \n",
      " 8    GEO_CNTY_NAME               454721 non-null  object \n",
      " 9    CD_2G                       497282 non-null  int64  \n",
      " 10   HVC_T                       497282 non-null  int64  \n",
      " 11   HVC_T_1                     497282 non-null  int64  \n",
      " 12   HVC_T_2                     497282 non-null  int64  \n",
      " 13   SERVICE_CODE                47974 non-null   object \n",
      " 14   P1_SONGAY                   47974 non-null   float64\n",
      " 15   NAP_THE_T                   497282 non-null  float64\n",
      " 16   TKC_T                       497282 non-null  float64\n",
      " 17   TKKM_T                      497282 non-null  float64\n",
      " 18   TKC_THOAI_T                 497282 non-null  float64\n",
      " 19   TKKM_THOAI_T                497282 non-null  float64\n",
      " 20   TKC_THOAI_ONNET_T           497282 non-null  float64\n",
      " 21   TKC_THOAI_OFFNET_T          497282 non-null  float64\n",
      " 22   TKC_SMS_T                   497282 non-null  float64\n",
      " 23   TKKM_SMS_T                  497282 non-null  float64\n",
      " 24   TKC_SMS_ONNET_T             497282 non-null  float64\n",
      " 25   TKC_SMS_OFFNET_T            497282 non-null  float64\n",
      " 26   TKC_DATA_T                  497282 non-null  float64\n",
      " 27   TKKM_DATA_T                 497282 non-null  float64\n",
      " 28   TKC_KHAC_T                  497282 non-null  float64\n",
      " 29   TKC_VAS_T                   497282 non-null  float64\n",
      " 30   LL_THOAI_T                  497282 non-null  int64  \n",
      " 31   LL_ONNET_IC_T               497282 non-null  int64  \n",
      " 32   LL_ONNET_OG_T               497282 non-null  int64  \n",
      " 33   LL_OFFNET_IC_T              497282 non-null  int64  \n",
      " 34   LL_OFFNET_OG_T              497282 non-null  int64  \n",
      " 35   LL_SMS_T                    497282 non-null  int64  \n",
      " 36   LL_SMS_ONNET_T              497282 non-null  int64  \n",
      " 37   LL_SMS_OFFNET_T             497282 non-null  int64  \n",
      " 38   LL_DATA_T                   497282 non-null  float64\n",
      " 39   TKC_MYTV_T                  497282 non-null  float64\n",
      " 40   NAP_THE_T_1                 497282 non-null  float64\n",
      " 41   TKC_T_1                     497282 non-null  float64\n",
      " 42   TKKM_T_1                    497282 non-null  float64\n",
      " 43   TKC_THOAI_T_1               497282 non-null  float64\n",
      " 44   TKKM_THOAI_T_1              497282 non-null  float64\n",
      " 45   TKC_THOAI_ONNET_T_1         497282 non-null  float64\n",
      " 46   TKC_THOAI_OFFNET_T_1        497282 non-null  float64\n",
      " 47   TKC_SMS_T_1                 497282 non-null  float64\n",
      " 48   TKKM_SMS_T_1                497282 non-null  float64\n",
      " 49   TKC_SMS_ONNET_T_1           497282 non-null  float64\n",
      " 50   TKC_SMS_OFFNET_T_1          497282 non-null  float64\n",
      " 51   TKC_DATA_T_1                497282 non-null  float64\n",
      " 52   TKKM_DATA_T_1               497282 non-null  float64\n",
      " 53   TKC_KHAC_T_1                497282 non-null  float64\n",
      " 54   TKC_VAS_T_1                 497282 non-null  float64\n",
      " 55   LL_THOAI_T_1                497282 non-null  int64  \n",
      " 56   LL_ONNET_IC_T_1             497282 non-null  int64  \n",
      " 57   LL_ONNET_OG_T_1             497282 non-null  int64  \n",
      " 58   LL_OFFNET_IC_T_1            497282 non-null  int64  \n",
      " 59   LL_OFFNET_OG_T_1            497282 non-null  int64  \n",
      " 60   LL_SMS_T_1                  497282 non-null  int64  \n",
      " 61   LL_SMS_ONNET_T_1            497282 non-null  int64  \n",
      " 62   LL_SMS_OFFNET_T_1           497282 non-null  int64  \n",
      " 63   LL_DATA_T_1                 497282 non-null  float64\n",
      " 64   TKC_MYTV_T_1                497282 non-null  float64\n",
      " 65   NAP_THE_T_2                 497282 non-null  float64\n",
      " 66   TKC_T_2                     497282 non-null  float64\n",
      " 67   TKKM_T_2                    497282 non-null  float64\n",
      " 68   TKC_THOAI_T_2               497282 non-null  float64\n",
      " 69   TKKM_THOAI_T_2              497282 non-null  float64\n",
      " 70   TKC_THOAI_ONNET_T_2         497282 non-null  float64\n",
      " 71   TKC_THOAI_OFFNET_T_2        497282 non-null  float64\n",
      " 72   TKC_SMS_T_2                 497282 non-null  float64\n",
      " 73   TKKM_SMS_T_2                497282 non-null  float64\n",
      " 74   TKC_SMS_ONNET_T_2           497282 non-null  float64\n",
      " 75   TKC_SMS_OFFNET_T_2          497282 non-null  float64\n",
      " 76   TKC_DATA_T_2                497282 non-null  float64\n",
      " 77   TKKM_DATA_T_2               497282 non-null  float64\n",
      " 78   TKC_KHAC_T_2                497282 non-null  float64\n",
      " 79   TKC_VAS_T_2                 497282 non-null  float64\n",
      " 80   LL_THOAI_T_2                497282 non-null  int64  \n",
      " 81   LL_ONNET_IC_T_2             497282 non-null  int64  \n",
      " 82   LL_ONNET_OG_T_2             497282 non-null  int64  \n",
      " 83   LL_OFFNET_IC_T_2            497282 non-null  int64  \n",
      " 84   LL_OFFNET_OG_T_2            497282 non-null  int64  \n",
      " 85   LL_SMS_T_2                  497282 non-null  int64  \n",
      " 86   LL_SMS_ONNET_T_2            497282 non-null  int64  \n",
      " 87   LL_SMS_OFFNET_T_2           497282 non-null  int64  \n",
      " 88   LL_DATA_T_2                 497282 non-null  float64\n",
      " 89   TKC_MYTV_T_2                497282 non-null  float64\n",
      " 90   is_fiber                    497282 non-null  float64\n",
      " 91   device_type                 481593 non-null  object \n",
      " 92   device_spam                 481593 non-null  float64\n",
      " 93   simslot                     471178 non-null  object \n",
      " 94   id_home                     10532 non-null   float64\n",
      " 95   role_home                   10532 non-null   float64\n",
      " 96   package_homecombo           10532 non-null   object \n",
      " 97   is_tieudung_km              497282 non-null  float64\n",
      " 98   is_sim_bundle               52991 non-null   float64\n",
      " 99   package_km                  497282 non-null  float64\n",
      " 100  package_km_t_1              497282 non-null  float64\n",
      " 101  tapuutien                   497282 non-null  int64  \n",
      " 102  TOT_RVN_PACKAGE             78793 non-null   float64\n",
      " 103  SERVICE_CODE_MUAGOI         78793 non-null   object \n",
      " 104  APP_NAME                    78793 non-null   object \n",
      " 105  P2_CHUKY                    9336 non-null    float64\n",
      " 106  sum_voice_t8                497282 non-null  int64  \n",
      " 107  voice_den_nm_t8             497282 non-null  int64  \n",
      " 108  voice_di_nm_t8              497282 non-null  int64  \n",
      " 109  voice_den_ngoaimang_t8      497282 non-null  int64  \n",
      " 110  voice_di_ngoaimang_t8       497282 non-null  int64  \n",
      " 111  voice_nm_t8                 497282 non-null  int64  \n",
      " 112  voice_ngoai_mang_t8         497282 non-null  int64  \n",
      " 113  amount_nap_the_t8           497282 non-null  int64  \n",
      " 114  sum_voice_t7                497282 non-null  float64\n",
      " 115  voice_den_nm_t7             497282 non-null  float64\n",
      " 116  voice_di_nm_t7              497282 non-null  float64\n",
      " 117  voice_den_ngoaimang_t7      497282 non-null  float64\n",
      " 118  voice_di_ngoaimang_t7       497282 non-null  float64\n",
      " 119  voice_nm_t7                 497282 non-null  float64\n",
      " 120  voice_ngoai_mang_t7         497282 non-null  float64\n",
      " 121  amount_nap_the_t7           497282 non-null  float64\n",
      " 122  sum_voice_t6                497282 non-null  float64\n",
      " 123  voice_den_nm_t6             497282 non-null  float64\n",
      " 124  voice_di_nm_t6              497282 non-null  float64\n",
      " 125  voice_den_ngoaimang_t6      497282 non-null  float64\n",
      " 126  voice_di_ngoaimang_t6       497282 non-null  float64\n",
      " 127  voice_nm_t6                 497282 non-null  float64\n",
      " 128  voice_ngoai_mang_t6         497282 non-null  float64\n",
      " 129  amount_nap_the_t6           497282 non-null  float64\n",
      " 130  tuoi                        497282 non-null  object \n",
      " 131  gender                      497282 non-null  object \n",
      " 132  service_fee_expiry_date     497282 non-null  object \n",
      " 133  super_period_expiry_date    497282 non-null  object \n",
      " 134  account_disconnection_date  497282 non-null  object \n",
      " 135  label                       497282 non-null  int64  \n",
      "dtypes: float64(80), int64(38), object(18)\n",
      "memory usage: 519.8+ MB\n"
     ]
    }
   ],
   "source": [
    "df.info(verbose=True, show_counts=True)"
   ]
  },
  {
   "cell_type": "code",
   "execution_count": 16,
   "metadata": {
    "colab": {
     "base_uri": "https://localhost:8080/"
    },
    "executionInfo": {
     "elapsed": 12,
     "status": "ok",
     "timestamp": 1731380591622,
     "user": {
      "displayName": "Tuấn Trần",
      "userId": "12903239917764979460"
     },
     "user_tz": -420
    },
    "id": "Bcy2dZJO_pvl",
    "outputId": "ad8aa68d-87c9-416d-9aa9-0ea70445e6e0"
   },
   "outputs": [
    {
     "name": "stdout",
     "output_type": "stream",
     "text": [
      "Counts for each distinct value in APP_NAME:\n",
      " device_type\n",
      "Smartphone                    382160\n",
      "Mobile Phone/Feature phone     56830\n",
      "IOT                            32188\n",
      "Khong xac dinh                 10415\n",
      "Name: count, dtype: int64\n"
     ]
    }
   ],
   "source": [
    "value_counts = df['device_type'].value_counts()\n",
    "print(\"Counts for each distinct value in APP_NAME:\\n\", value_counts)"
   ]
  },
  {
   "cell_type": "code",
   "execution_count": 17,
   "metadata": {
    "executionInfo": {
     "elapsed": 12,
     "status": "ok",
     "timestamp": 1731380591623,
     "user": {
      "displayName": "Tuấn Trần",
      "userId": "12903239917764979460"
     },
     "user_tz": -420
    },
    "id": "okWCHNQw__rd"
   },
   "outputs": [],
   "source": [
    "df['simslot'] = df['simslot'].fillna(\"Not Known\")"
   ]
  },
  {
   "cell_type": "code",
   "execution_count": 18,
   "metadata": {
    "executionInfo": {
     "elapsed": 12,
     "status": "ok",
     "timestamp": 1731380591623,
     "user": {
      "displayName": "Tuấn Trần",
      "userId": "12903239917764979460"
     },
     "user_tz": -420
    },
    "id": "SrrBU4V-ALPt"
   },
   "outputs": [],
   "source": [
    "df['device_type'] = df['device_type'].fillna(\"Not included\")\n",
    "df['device_spam'] = df['device_spam'].fillna(\"Not included\")"
   ]
  },
  {
   "cell_type": "code",
   "execution_count": 19,
   "metadata": {
    "colab": {
     "base_uri": "https://localhost:8080/"
    },
    "executionInfo": {
     "elapsed": 11,
     "status": "ok",
     "timestamp": 1731380591623,
     "user": {
      "displayName": "Tuấn Trần",
      "userId": "12903239917764979460"
     },
     "user_tz": -420
    },
    "id": "YRQuYhcoA-QP",
    "outputId": "7f085ca0-f727-4877-ee77-d8b683157f91"
   },
   "outputs": [
    {
     "name": "stdout",
     "output_type": "stream",
     "text": [
      "Counts for each distinct value :\n",
      " role_home\n",
      "0.0    5683\n",
      "1.0    4849\n",
      "Name: count, dtype: int64\n"
     ]
    }
   ],
   "source": [
    "value_counts = df['role_home'].value_counts()\n",
    "print(\"Counts for each distinct value :\\n\", value_counts)"
   ]
  },
  {
   "cell_type": "code",
   "execution_count": 20,
   "metadata": {
    "executionInfo": {
     "elapsed": 10,
     "status": "ok",
     "timestamp": 1731380591623,
     "user": {
      "displayName": "Tuấn Trần",
      "userId": "12903239917764979460"
     },
     "user_tz": -420
    },
    "id": "KJvlo2MiBFt2"
   },
   "outputs": [],
   "source": [
    "# Fill NaN values with 3 in 'role_home'\n",
    "df['role_home'] = df['role_home'].fillna(3)\n",
    "\n",
    "df['id_home'] = df['role_home'].fillna(0)"
   ]
  },
  {
   "cell_type": "code",
   "execution_count": 21,
   "metadata": {
    "colab": {
     "base_uri": "https://localhost:8080/"
    },
    "executionInfo": {
     "elapsed": 10,
     "status": "ok",
     "timestamp": 1731380591623,
     "user": {
      "displayName": "Tuấn Trần",
      "userId": "12903239917764979460"
     },
     "user_tz": -420
    },
    "id": "LGbpLmGJBWpM",
    "outputId": "6b75a975-2f4e-4514-fda5-1085e86f5743"
   },
   "outputs": [
    {
     "name": "stdout",
     "output_type": "stream",
     "text": [
      "Counts for each distinct value in APP_NAME:\n",
      " voice_den_nm_t6\n",
      "0.0       163926\n",
      "1.0        52891\n",
      "2.0        33833\n",
      "3.0        25319\n",
      "4.0        20116\n",
      "           ...  \n",
      "783.0          1\n",
      "572.0          1\n",
      "521.0          1\n",
      "695.0          1\n",
      "2958.0         1\n",
      "Name: count, Length: 612, dtype: int64\n"
     ]
    }
   ],
   "source": [
    "value_counts = df['voice_den_nm_t6'].value_counts()\n",
    "print(\"Counts for each distinct value in APP_NAME:\\n\", value_counts)"
   ]
  },
  {
   "cell_type": "code",
   "execution_count": 22,
   "metadata": {
    "colab": {
     "base_uri": "https://localhost:8080/"
    },
    "executionInfo": {
     "elapsed": 8,
     "status": "ok",
     "timestamp": 1731380591623,
     "user": {
      "displayName": "Tuấn Trần",
      "userId": "12903239917764979460"
     },
     "user_tz": -420
    },
    "id": "DqqLEsiTDvUu",
    "outputId": "4118db87-ef00-4ace-f6bc-721be9c73042"
   },
   "outputs": [
    {
     "name": "stdout",
     "output_type": "stream",
     "text": [
      "Counts for each distinct value in APP_NAME:\n",
      " SERVICE_CODE\n",
      "MI_D7             14241\n",
      "MI_D2             10764\n",
      "SPOTV10            4809\n",
      "KM_D3              4389\n",
      "KM_DT30            3919\n",
      "MI_D6V             2885\n",
      "VD2                1932\n",
      "MI_D15             1161\n",
      "MI_D5K             1103\n",
      "MI_D5               748\n",
      "MI_D3K              564\n",
      "VOCUC               242\n",
      "VD30T               189\n",
      "MI_DT5              181\n",
      "VD50                147\n",
      "MI_H5               131\n",
      "TSAL                108\n",
      "VMAX                 84\n",
      "TN20                 81\n",
      "VC5                  62\n",
      "KM_DT20              52\n",
      "MI_DT1               37\n",
      "TD_TD3               23\n",
      "VD100                17\n",
      "MI_VD1G              14\n",
      "V20                  14\n",
      "MI_BIG70_DAILY       13\n",
      "MI_X1                12\n",
      "MI_DT3               11\n",
      "IR_RA                10\n",
      "V10                   8\n",
      "V10MP                 7\n",
      "MI_H10                4\n",
      "IR_RU110              3\n",
      "ZL_ZL1                2\n",
      "C50                   2\n",
      "ZL_ZL7                1\n",
      "IR_RU10               1\n",
      "IR_RU250              1\n",
      "IR_RU3                1\n",
      "C15                   1\n",
      "Name: count, dtype: int64\n"
     ]
    }
   ],
   "source": [
    "\n",
    "value_counts = df['SERVICE_CODE'].value_counts()\n",
    "print(\"Counts for each distinct value in APP_NAME:\\n\", value_counts)"
   ]
  },
  {
   "cell_type": "code",
   "execution_count": 23,
   "metadata": {
    "colab": {
     "base_uri": "https://localhost:8080/"
    },
    "executionInfo": {
     "elapsed": 467,
     "status": "ok",
     "timestamp": 1731380592083,
     "user": {
      "displayName": "Tuấn Trần",
      "userId": "12903239917764979460"
     },
     "user_tz": -420
    },
    "id": "DW-hnQbzFzv_",
    "outputId": "6a7a029b-c197-4317-f4dc-f74cebd07b9c"
   },
   "outputs": [
    {
     "name": "stdout",
     "output_type": "stream",
     "text": [
      "Counts for each distinct value in APP_NAME:\n",
      " SERVICE_CODE_MUAGOI\n",
      "MI_D7                                                                            4517\n",
      "MI_D2                                                                            4124\n",
      "MI_D7,MI_D7                                                                      3052\n",
      "12TD49                                                                           2836\n",
      "MI_D2,MI_D2                                                                      2259\n",
      "                                                                                 ... \n",
      "SPOTV10,KM_DT30,SPOTV10,SPOTV10,SPOTV10,SPOTV10,SPOTV10,SPOTV10,KM_DT30             1\n",
      "SPOTV10,SPOTV10,MI_D5K,SPOTV10,MI_D5K,MI_D6V,SPOTV10,MI_D6V,SPOTV10,MI_D6V          1\n",
      "MI_D5,MI_D3K,MI_D3K,MI_D3K                                                          1\n",
      "MI_D7,MI_D2,MI_D7,MI_D2,MI_D2,MI_D2,MI_D2,MI_D7,MI_D7,MI_D7,MI_D2,MI_D2,MI_D2       1\n",
      "MI_D2,MI_D2,KM_DT30,KM_DT30,KM_DT30                                                 1\n",
      "Name: count, Length: 7388, dtype: int64\n"
     ]
    }
   ],
   "source": [
    "\n",
    "value_counts = df['SERVICE_CODE_MUAGOI'].value_counts()\n",
    "print(\"Counts for each distinct value in APP_NAME:\\n\", value_counts)"
   ]
  },
  {
   "cell_type": "code",
   "execution_count": 24,
   "metadata": {
    "executionInfo": {
     "elapsed": 11248,
     "status": "ok",
     "timestamp": 1731380603329,
     "user": {
      "displayName": "Tuấn Trần",
      "userId": "12903239917764979460"
     },
     "user_tz": -420
    },
    "id": "SeBQyuEzFHql"
   },
   "outputs": [],
   "source": [
    "df['P2_CHUKY'] = df.apply(\n",
    "    lambda row: 0.1 if pd.isnull(row['P2_CHUKY']) and pd.notnull(row['SERVICE_CODE_MUAGOI'])\n",
    "                else (0 if pd.isnull(row['P2_CHUKY']) else row['P2_CHUKY']),\n",
    "    axis=1\n",
    ")"
   ]
  },
  {
   "cell_type": "code",
   "execution_count": 25,
   "metadata": {
    "executionInfo": {
     "elapsed": 6,
     "status": "ok",
     "timestamp": 1731380603330,
     "user": {
      "displayName": "Tuấn Trần",
      "userId": "12903239917764979460"
     },
     "user_tz": -420
    },
    "id": "26re6rSOExuv"
   },
   "outputs": [],
   "source": [
    "df[['SERVICE_CODE', 'SERVICE_CODE_MUAGOI']] = df[['SERVICE_CODE', 'SERVICE_CODE_MUAGOI']].fillna(\"notSub\")"
   ]
  },
  {
   "cell_type": "code",
   "execution_count": 26,
   "metadata": {
    "executionInfo": {
     "elapsed": 5,
     "status": "ok",
     "timestamp": 1731380603330,
     "user": {
      "displayName": "Tuấn Trần",
      "userId": "12903239917764979460"
     },
     "user_tz": -420
    },
    "id": "OfIpD38zHkZf"
   },
   "outputs": [],
   "source": [
    "df['package_homecombo'] = df['package_homecombo'].fillna(\"notSub\")"
   ]
  },
  {
   "cell_type": "code",
   "execution_count": 27,
   "metadata": {
    "executionInfo": {
     "elapsed": 5,
     "status": "ok",
     "timestamp": 1731380603330,
     "user": {
      "displayName": "Tuấn Trần",
      "userId": "12903239917764979460"
     },
     "user_tz": -420
    },
    "id": "bgBIuN-zFTo-"
   },
   "outputs": [],
   "source": [
    "df['P1_SONGAY'] = df['P1_SONGAY'].fillna(0)"
   ]
  },
  {
   "cell_type": "code",
   "execution_count": 28,
   "metadata": {
    "executionInfo": {
     "elapsed": 4,
     "status": "ok",
     "timestamp": 1731380603330,
     "user": {
      "displayName": "Tuấn Trần",
      "userId": "12903239917764979460"
     },
     "user_tz": -420
    },
    "id": "4CA-EZFHHyWW"
   },
   "outputs": [],
   "source": [
    "df['TOT_RVN_PACKAGE'] = df['TOT_RVN_PACKAGE'].fillna(0)"
   ]
  },
  {
   "cell_type": "code",
   "execution_count": 29,
   "metadata": {
    "executionInfo": {
     "elapsed": 4,
     "status": "ok",
     "timestamp": 1731380603330,
     "user": {
      "displayName": "Tuấn Trần",
      "userId": "12903239917764979460"
     },
     "user_tz": -420
    },
    "id": "5lgWM9JWH2Mm"
   },
   "outputs": [],
   "source": [
    "df['is_sim_bundle'] = df['is_sim_bundle'].fillna(0)"
   ]
  },
  {
   "cell_type": "code",
   "execution_count": 30,
   "metadata": {
    "colab": {
     "base_uri": "https://localhost:8080/"
    },
    "executionInfo": {
     "elapsed": 555,
     "status": "ok",
     "timestamp": 1731380603881,
     "user": {
      "displayName": "Tuấn Trần",
      "userId": "12903239917764979460"
     },
     "user_tz": -420
    },
    "id": "7jMm5WfkG3pe",
    "outputId": "695aad14-0b6d-4334-f6d2-1481ffcbf9f8"
   },
   "outputs": [
    {
     "name": "stdout",
     "output_type": "stream",
     "text": [
      "<class 'pandas.core.frame.DataFrame'>\n",
      "Index: 497282 entries, 0 to 499999\n",
      "Data columns (total 136 columns):\n",
      " #    Column                      Non-Null Count   Dtype  \n",
      "---   ------                      --------------   -----  \n",
      " 0    ACCS_MTHD_KEY               497282 non-null  object \n",
      " 1    ACTVTN_DT                   497282 non-null  float64\n",
      " 2    ACC                         492793 non-null  float64\n",
      " 3    SIM_TYPE                    497282 non-null  object \n",
      " 4    TRANG_THAI                  497282 non-null  object \n",
      " 5    PROVINCE_CODE               480240 non-null  object \n",
      " 6    PBH                         480240 non-null  object \n",
      " 7    GEO_CITY_NAME               489771 non-null  object \n",
      " 8    GEO_CNTY_NAME               454721 non-null  object \n",
      " 9    CD_2G                       497282 non-null  int64  \n",
      " 10   HVC_T                       497282 non-null  int64  \n",
      " 11   HVC_T_1                     497282 non-null  int64  \n",
      " 12   HVC_T_2                     497282 non-null  int64  \n",
      " 13   SERVICE_CODE                497282 non-null  object \n",
      " 14   P1_SONGAY                   497282 non-null  float64\n",
      " 15   NAP_THE_T                   497282 non-null  float64\n",
      " 16   TKC_T                       497282 non-null  float64\n",
      " 17   TKKM_T                      497282 non-null  float64\n",
      " 18   TKC_THOAI_T                 497282 non-null  float64\n",
      " 19   TKKM_THOAI_T                497282 non-null  float64\n",
      " 20   TKC_THOAI_ONNET_T           497282 non-null  float64\n",
      " 21   TKC_THOAI_OFFNET_T          497282 non-null  float64\n",
      " 22   TKC_SMS_T                   497282 non-null  float64\n",
      " 23   TKKM_SMS_T                  497282 non-null  float64\n",
      " 24   TKC_SMS_ONNET_T             497282 non-null  float64\n",
      " 25   TKC_SMS_OFFNET_T            497282 non-null  float64\n",
      " 26   TKC_DATA_T                  497282 non-null  float64\n",
      " 27   TKKM_DATA_T                 497282 non-null  float64\n",
      " 28   TKC_KHAC_T                  497282 non-null  float64\n",
      " 29   TKC_VAS_T                   497282 non-null  float64\n",
      " 30   LL_THOAI_T                  497282 non-null  int64  \n",
      " 31   LL_ONNET_IC_T               497282 non-null  int64  \n",
      " 32   LL_ONNET_OG_T               497282 non-null  int64  \n",
      " 33   LL_OFFNET_IC_T              497282 non-null  int64  \n",
      " 34   LL_OFFNET_OG_T              497282 non-null  int64  \n",
      " 35   LL_SMS_T                    497282 non-null  int64  \n",
      " 36   LL_SMS_ONNET_T              497282 non-null  int64  \n",
      " 37   LL_SMS_OFFNET_T             497282 non-null  int64  \n",
      " 38   LL_DATA_T                   497282 non-null  float64\n",
      " 39   TKC_MYTV_T                  497282 non-null  float64\n",
      " 40   NAP_THE_T_1                 497282 non-null  float64\n",
      " 41   TKC_T_1                     497282 non-null  float64\n",
      " 42   TKKM_T_1                    497282 non-null  float64\n",
      " 43   TKC_THOAI_T_1               497282 non-null  float64\n",
      " 44   TKKM_THOAI_T_1              497282 non-null  float64\n",
      " 45   TKC_THOAI_ONNET_T_1         497282 non-null  float64\n",
      " 46   TKC_THOAI_OFFNET_T_1        497282 non-null  float64\n",
      " 47   TKC_SMS_T_1                 497282 non-null  float64\n",
      " 48   TKKM_SMS_T_1                497282 non-null  float64\n",
      " 49   TKC_SMS_ONNET_T_1           497282 non-null  float64\n",
      " 50   TKC_SMS_OFFNET_T_1          497282 non-null  float64\n",
      " 51   TKC_DATA_T_1                497282 non-null  float64\n",
      " 52   TKKM_DATA_T_1               497282 non-null  float64\n",
      " 53   TKC_KHAC_T_1                497282 non-null  float64\n",
      " 54   TKC_VAS_T_1                 497282 non-null  float64\n",
      " 55   LL_THOAI_T_1                497282 non-null  int64  \n",
      " 56   LL_ONNET_IC_T_1             497282 non-null  int64  \n",
      " 57   LL_ONNET_OG_T_1             497282 non-null  int64  \n",
      " 58   LL_OFFNET_IC_T_1            497282 non-null  int64  \n",
      " 59   LL_OFFNET_OG_T_1            497282 non-null  int64  \n",
      " 60   LL_SMS_T_1                  497282 non-null  int64  \n",
      " 61   LL_SMS_ONNET_T_1            497282 non-null  int64  \n",
      " 62   LL_SMS_OFFNET_T_1           497282 non-null  int64  \n",
      " 63   LL_DATA_T_1                 497282 non-null  float64\n",
      " 64   TKC_MYTV_T_1                497282 non-null  float64\n",
      " 65   NAP_THE_T_2                 497282 non-null  float64\n",
      " 66   TKC_T_2                     497282 non-null  float64\n",
      " 67   TKKM_T_2                    497282 non-null  float64\n",
      " 68   TKC_THOAI_T_2               497282 non-null  float64\n",
      " 69   TKKM_THOAI_T_2              497282 non-null  float64\n",
      " 70   TKC_THOAI_ONNET_T_2         497282 non-null  float64\n",
      " 71   TKC_THOAI_OFFNET_T_2        497282 non-null  float64\n",
      " 72   TKC_SMS_T_2                 497282 non-null  float64\n",
      " 73   TKKM_SMS_T_2                497282 non-null  float64\n",
      " 74   TKC_SMS_ONNET_T_2           497282 non-null  float64\n",
      " 75   TKC_SMS_OFFNET_T_2          497282 non-null  float64\n",
      " 76   TKC_DATA_T_2                497282 non-null  float64\n",
      " 77   TKKM_DATA_T_2               497282 non-null  float64\n",
      " 78   TKC_KHAC_T_2                497282 non-null  float64\n",
      " 79   TKC_VAS_T_2                 497282 non-null  float64\n",
      " 80   LL_THOAI_T_2                497282 non-null  int64  \n",
      " 81   LL_ONNET_IC_T_2             497282 non-null  int64  \n",
      " 82   LL_ONNET_OG_T_2             497282 non-null  int64  \n",
      " 83   LL_OFFNET_IC_T_2            497282 non-null  int64  \n",
      " 84   LL_OFFNET_OG_T_2            497282 non-null  int64  \n",
      " 85   LL_SMS_T_2                  497282 non-null  int64  \n",
      " 86   LL_SMS_ONNET_T_2            497282 non-null  int64  \n",
      " 87   LL_SMS_OFFNET_T_2           497282 non-null  int64  \n",
      " 88   LL_DATA_T_2                 497282 non-null  float64\n",
      " 89   TKC_MYTV_T_2                497282 non-null  float64\n",
      " 90   is_fiber                    497282 non-null  float64\n",
      " 91   device_type                 497282 non-null  object \n",
      " 92   device_spam                 497282 non-null  object \n",
      " 93   simslot                     497282 non-null  object \n",
      " 94   id_home                     497282 non-null  float64\n",
      " 95   role_home                   497282 non-null  float64\n",
      " 96   package_homecombo           497282 non-null  object \n",
      " 97   is_tieudung_km              497282 non-null  float64\n",
      " 98   is_sim_bundle               497282 non-null  float64\n",
      " 99   package_km                  497282 non-null  float64\n",
      " 100  package_km_t_1              497282 non-null  float64\n",
      " 101  tapuutien                   497282 non-null  int64  \n",
      " 102  TOT_RVN_PACKAGE             497282 non-null  float64\n",
      " 103  SERVICE_CODE_MUAGOI         497282 non-null  object \n",
      " 104  APP_NAME                    78793 non-null   object \n",
      " 105  P2_CHUKY                    497282 non-null  float64\n",
      " 106  sum_voice_t8                497282 non-null  int64  \n",
      " 107  voice_den_nm_t8             497282 non-null  int64  \n",
      " 108  voice_di_nm_t8              497282 non-null  int64  \n",
      " 109  voice_den_ngoaimang_t8      497282 non-null  int64  \n",
      " 110  voice_di_ngoaimang_t8       497282 non-null  int64  \n",
      " 111  voice_nm_t8                 497282 non-null  int64  \n",
      " 112  voice_ngoai_mang_t8         497282 non-null  int64  \n",
      " 113  amount_nap_the_t8           497282 non-null  int64  \n",
      " 114  sum_voice_t7                497282 non-null  float64\n",
      " 115  voice_den_nm_t7             497282 non-null  float64\n",
      " 116  voice_di_nm_t7              497282 non-null  float64\n",
      " 117  voice_den_ngoaimang_t7      497282 non-null  float64\n",
      " 118  voice_di_ngoaimang_t7       497282 non-null  float64\n",
      " 119  voice_nm_t7                 497282 non-null  float64\n",
      " 120  voice_ngoai_mang_t7         497282 non-null  float64\n",
      " 121  amount_nap_the_t7           497282 non-null  float64\n",
      " 122  sum_voice_t6                497282 non-null  float64\n",
      " 123  voice_den_nm_t6             497282 non-null  float64\n",
      " 124  voice_di_nm_t6              497282 non-null  float64\n",
      " 125  voice_den_ngoaimang_t6      497282 non-null  float64\n",
      " 126  voice_di_ngoaimang_t6       497282 non-null  float64\n",
      " 127  voice_nm_t6                 497282 non-null  float64\n",
      " 128  voice_ngoai_mang_t6         497282 non-null  float64\n",
      " 129  amount_nap_the_t6           497282 non-null  float64\n",
      " 130  tuoi                        497282 non-null  object \n",
      " 131  gender                      497282 non-null  object \n",
      " 132  service_fee_expiry_date     497282 non-null  object \n",
      " 133  super_period_expiry_date    497282 non-null  object \n",
      " 134  account_disconnection_date  497282 non-null  object \n",
      " 135  label                       497282 non-null  int64  \n",
      "dtypes: float64(79), int64(38), object(19)\n",
      "memory usage: 519.8+ MB\n"
     ]
    }
   ],
   "source": [
    "df.info(verbose=True, show_counts=True)"
   ]
  },
  {
   "cell_type": "code",
   "execution_count": 31,
   "metadata": {
    "executionInfo": {
     "elapsed": 6,
     "status": "ok",
     "timestamp": 1731380603881,
     "user": {
      "displayName": "Tuấn Trần",
      "userId": "12903239917764979460"
     },
     "user_tz": -420
    },
    "id": "OweDfrwLHMOG"
   },
   "outputs": [],
   "source": [
    "df[['PROVINCE_CODE', 'PBH','GEO_CITY_NAME','GEO_CNTY_NAME']] = df[['PROVINCE_CODE', 'PBH','GEO_CITY_NAME','GEO_CNTY_NAME']].fillna(\"notKnown\")"
   ]
  },
  {
   "cell_type": "code",
   "execution_count": 32,
   "metadata": {
    "colab": {
     "base_uri": "https://localhost:8080/"
    },
    "executionInfo": {
     "elapsed": 488,
     "status": "ok",
     "timestamp": 1731380604363,
     "user": {
      "displayName": "Tuấn Trần",
      "userId": "12903239917764979460"
     },
     "user_tz": -420
    },
    "id": "SwJG9eQYG-b3",
    "outputId": "4eb1318e-d528-4fd0-98a7-5bc7b8ad376c"
   },
   "outputs": [
    {
     "name": "stdout",
     "output_type": "stream",
     "text": [
      "Counts for each distinct value in APP_NAME:\n",
      " id_home\n",
      "3.0    486750\n",
      "0.0      5683\n",
      "1.0      4849\n",
      "Name: count, dtype: int64\n"
     ]
    }
   ],
   "source": [
    "\n",
    "value_counts = df['id_home'].value_counts()\n",
    "print(\"Counts for each distinct value in APP_NAME:\\n\", value_counts)"
   ]
  },
  {
   "cell_type": "code",
   "execution_count": 33,
   "metadata": {
    "executionInfo": {
     "elapsed": 3,
     "status": "ok",
     "timestamp": 1731380604363,
     "user": {
      "displayName": "Tuấn Trần",
      "userId": "12903239917764979460"
     },
     "user_tz": -420
    },
    "id": "x2SylL_2INW2"
   },
   "outputs": [],
   "source": [
    "df['APP_NAME'] = df['APP_NAME'].fillna(\"notKnown\")"
   ]
  },
  {
   "cell_type": "code",
   "execution_count": 34,
   "metadata": {
    "executionInfo": {
     "elapsed": 52248,
     "status": "ok",
     "timestamp": 1731380656609,
     "user": {
      "displayName": "Tuấn Trần",
      "userId": "12903239917764979460"
     },
     "user_tz": -420
    },
    "id": "SdMYYa0jIT6H"
   },
   "outputs": [],
   "source": [
    "df.to_csv('EDA_Data.csv')"
   ]
  }
 ],
 "metadata": {
  "colab": {
   "authorship_tag": "ABX9TyOIYAv8yPaeO5USffoRDl7Z",
   "provenance": []
  },
  "kernelspec": {
   "display_name": "Python 3",
   "name": "python3"
  },
  "language_info": {
   "name": "python"
  }
 },
 "nbformat": 4,
 "nbformat_minor": 0
}
